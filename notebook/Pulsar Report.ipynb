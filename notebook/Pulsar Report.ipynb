{
 "cells": [
  {
   "attachments": {},
   "cell_type": "markdown",
   "metadata": {},
   "source": [
    "# On the Identification of Pulsar Stars\n",
    "\n",
    "A DSCI 100 Project\n",
    "\n",
    "Lucas Kuhn, Sophia Zhang, Michael Cheung"
   ]
  },
  {
   "attachments": {},
   "cell_type": "markdown",
   "metadata": {},
   "source": [
    "## Introduction\n",
    "\n",
    "Out in the universe, astronomers have found many neutron stars. A subset of these stars fall under a rare classification known as a \"pulsar\", meaning that they produce a periodic radio signal that is detectable from Earth. These stars are of great interest, and so being able to identify them is a useful skill that furthers exploration efforts in understanding neutron stars.\n",
    "\n",
    "In this project, we set out to develop a model for classifying them distinctly from those that are \"non-pulsar\". Our question to answer: \"Are there characteristics of a pulsar candidate's curve profiles that serve as good predictors for pulsar and non-pulsar classification?\".\n",
    "\n",
    "To investigate this, we use the HTRU2 dataset provided by the UCI Machine Learning Repository. This dataset contains summary statistics for a large number of observed pulsar candidates as they exhibit on both the Integrated Pulse (folded) Profile as well as on the Dispersion Measure Signal-to-Noise Ratio (DM-SNR) curve, which is then associated alongside their known classifications as either \"pulsar\" or \"non-pulsar\"."
   ]
  },
  {
   "attachments": {},
   "cell_type": "markdown",
   "metadata": {},
   "source": [
    "## Methods\n",
    "\n",
    "To carry out the investigation, we will train multiple K-Nearest Neighbours classifier models using various subsets of the columns in our dataset as predictor variables. Given how the candidates that are truly pulsar generally broadcast signal pulses that are \"remarkably constant over long periods of time\" (Kastergiou et. al, 2011), we can reasonably surmise that the summary statistics from candidates' curve profiles could serve as predictors for our classification model.\n",
    "\n",
    "As a way of gaining insights as to which dataset columns to use in our set of predictor columns, we will first create scatter plots of pairs of the columns in a scatter plot matrix, colouring the points by their classification and inspecting for visible divisions. For example, columns that we may wish to exclude from the predictor variables are those that result in \"heterogeneous\" mixtures of the classified points with less defined independent groupings of points. This is a valid way to evaluate for predictors as plots provide an interface for human inspection, and are used to train other models such as artificial neural networks (Eatough et. al, 2010).\n",
    "\n",
    "Using a GridSearchCV with 5-fold Cross-Validation, we can optimize the number of neighbours $k$. This allows us to efficiently test the validation accuracy at many values of $k$ and combat both overfitting and underfitting.\n",
    "\n",
    "With our best model, we can assess its accuracy on the testing set using a confusion matrix, allowing us to more critically assess the accuracy based on whether false positives are more costly than false negatives."
   ]
  },
  {
   "attachments": {},
   "cell_type": "markdown",
   "metadata": {},
   "source": [
    "## Results\n",
    "\n",
    "We perform preliminary setup and retrieve the packages we expect to use."
   ]
  },
  {
   "cell_type": "code",
   "execution_count": 1,
   "metadata": {},
   "outputs": [],
   "source": [
    "# Retrieve relevant packages for dataframes and visualization tools\n",
    "import pandas as pd\n",
    "import altair as alt\n",
    "import sklearn\n",
    "\n",
    "# Retrieve relevant packages for classification and modelling\n",
    "from sklearn.compose import make_column_transformer\n",
    "from sklearn.metrics import confusion_matrix\n",
    "from sklearn.metrics.pairwise import euclidean_distances\n",
    "from sklearn.model_selection import (\n",
    "    GridSearchCV,\n",
    "    cross_validate,\n",
    "    train_test_split,\n",
    ")\n",
    "from sklearn.neighbors import KNeighborsClassifier\n",
    "from sklearn.pipeline import Pipeline, make_pipeline\n",
    "from sklearn.preprocessing import StandardScaler"
   ]
  },
  {
   "attachments": {},
   "cell_type": "markdown",
   "metadata": {},
   "source": [
    "As the dataset we plan to import will contain more than 5000 observations, we will need to allow for greater data plotting."
   ]
  },
  {
   "cell_type": "code",
   "execution_count": 2,
   "metadata": {},
   "outputs": [
    {
     "data": {
      "text/plain": [
       "DataTransformerRegistry.enable('default')"
      ]
     },
     "execution_count": 2,
     "metadata": {},
     "output_type": "execute_result"
    }
   ],
   "source": [
    "alt.data_transformers.disable_max_rows()"
   ]
  },
  {
   "attachments": {},
   "cell_type": "markdown",
   "metadata": {},
   "source": [
    "The HTRU2 dataset can be downloaded from the [UCI Machine Learning Repository](https://archive.ics.uci.edu/ml/machine-learning-databases/00372/). We unzip the file to the `data/` directory and read the corresponding .CSV file into Jupyter Notebook."
   ]
  },
  {
   "cell_type": "code",
   "execution_count": 3,
   "metadata": {},
   "outputs": [
    {
     "data": {
      "text/html": [
       "<div>\n",
       "<style scoped>\n",
       "    .dataframe tbody tr th:only-of-type {\n",
       "        vertical-align: middle;\n",
       "    }\n",
       "\n",
       "    .dataframe tbody tr th {\n",
       "        vertical-align: top;\n",
       "    }\n",
       "\n",
       "    .dataframe thead th {\n",
       "        text-align: right;\n",
       "    }\n",
       "</style>\n",
       "<table border=\"1\" class=\"dataframe\">\n",
       "  <thead>\n",
       "    <tr style=\"text-align: right;\">\n",
       "      <th></th>\n",
       "      <th>Profile_mean</th>\n",
       "      <th>Profile_stdev</th>\n",
       "      <th>Profile_skewness</th>\n",
       "      <th>Profile_kurtosis</th>\n",
       "      <th>DM_mean</th>\n",
       "      <th>DM_stdev</th>\n",
       "      <th>DM_skewness</th>\n",
       "      <th>DM_kurtosis</th>\n",
       "      <th>class</th>\n",
       "    </tr>\n",
       "  </thead>\n",
       "  <tbody>\n",
       "    <tr>\n",
       "      <th>0</th>\n",
       "      <td>140.562500</td>\n",
       "      <td>55.683782</td>\n",
       "      <td>-0.234571</td>\n",
       "      <td>-0.699648</td>\n",
       "      <td>3.199833</td>\n",
       "      <td>19.110426</td>\n",
       "      <td>7.975532</td>\n",
       "      <td>74.242225</td>\n",
       "      <td>0</td>\n",
       "    </tr>\n",
       "    <tr>\n",
       "      <th>1</th>\n",
       "      <td>102.507812</td>\n",
       "      <td>58.882430</td>\n",
       "      <td>0.465318</td>\n",
       "      <td>-0.515088</td>\n",
       "      <td>1.677258</td>\n",
       "      <td>14.860146</td>\n",
       "      <td>10.576487</td>\n",
       "      <td>127.393580</td>\n",
       "      <td>0</td>\n",
       "    </tr>\n",
       "    <tr>\n",
       "      <th>2</th>\n",
       "      <td>103.015625</td>\n",
       "      <td>39.341649</td>\n",
       "      <td>0.323328</td>\n",
       "      <td>1.051164</td>\n",
       "      <td>3.121237</td>\n",
       "      <td>21.744669</td>\n",
       "      <td>7.735822</td>\n",
       "      <td>63.171909</td>\n",
       "      <td>0</td>\n",
       "    </tr>\n",
       "    <tr>\n",
       "      <th>3</th>\n",
       "      <td>136.750000</td>\n",
       "      <td>57.178449</td>\n",
       "      <td>-0.068415</td>\n",
       "      <td>-0.636238</td>\n",
       "      <td>3.642977</td>\n",
       "      <td>20.959280</td>\n",
       "      <td>6.896499</td>\n",
       "      <td>53.593661</td>\n",
       "      <td>0</td>\n",
       "    </tr>\n",
       "    <tr>\n",
       "      <th>4</th>\n",
       "      <td>88.726562</td>\n",
       "      <td>40.672225</td>\n",
       "      <td>0.600866</td>\n",
       "      <td>1.123492</td>\n",
       "      <td>1.178930</td>\n",
       "      <td>11.468720</td>\n",
       "      <td>14.269573</td>\n",
       "      <td>252.567306</td>\n",
       "      <td>0</td>\n",
       "    </tr>\n",
       "  </tbody>\n",
       "</table>\n",
       "</div>"
      ],
      "text/plain": [
       "   Profile_mean  Profile_stdev  Profile_skewness  Profile_kurtosis   DM_mean  \\\n",
       "0    140.562500      55.683782         -0.234571         -0.699648  3.199833   \n",
       "1    102.507812      58.882430          0.465318         -0.515088  1.677258   \n",
       "2    103.015625      39.341649          0.323328          1.051164  3.121237   \n",
       "3    136.750000      57.178449         -0.068415         -0.636238  3.642977   \n",
       "4     88.726562      40.672225          0.600866          1.123492  1.178930   \n",
       "\n",
       "    DM_stdev  DM_skewness  DM_kurtosis  class  \n",
       "0  19.110426     7.975532    74.242225      0  \n",
       "1  14.860146    10.576487   127.393580      0  \n",
       "2  21.744669     7.735822    63.171909      0  \n",
       "3  20.959280     6.896499    53.593661      0  \n",
       "4  11.468720    14.269573   252.567306      0  "
      ]
     },
     "execution_count": 3,
     "metadata": {},
     "output_type": "execute_result"
    }
   ],
   "source": [
    "pulsar_data = pd.read_csv(\n",
    "    \"../data/HTRU2/HTRU_2.csv\",\n",
    "    # .CSV file contains no column headers, we provide these here\n",
    "    names=[\n",
    "        \"Profile_mean\",\n",
    "        \"Profile_stdev\",\n",
    "        \"Profile_skewness\",\n",
    "        \"Profile_kurtosis\",\n",
    "        \"DM_mean\",\n",
    "        \"DM_stdev\",\n",
    "        \"DM_skewness\",\n",
    "        \"DM_kurtosis\",\n",
    "        \"class\"\n",
    "    ]\n",
    ")\n",
    "\n",
    "pulsar_data.head()"
   ]
  },
  {
   "attachments": {},
   "cell_type": "markdown",
   "metadata": {},
   "source": [
    "At a high-level, we query for properties of the dataset's shape and columns."
   ]
  },
  {
   "cell_type": "code",
   "execution_count": 4,
   "metadata": {},
   "outputs": [
    {
     "name": "stdout",
     "output_type": "stream",
     "text": [
      "<class 'pandas.core.frame.DataFrame'>\n",
      "RangeIndex: 17898 entries, 0 to 17897\n",
      "Data columns (total 9 columns):\n",
      " #   Column            Non-Null Count  Dtype  \n",
      "---  ------            --------------  -----  \n",
      " 0   Profile_mean      17898 non-null  float64\n",
      " 1   Profile_stdev     17898 non-null  float64\n",
      " 2   Profile_skewness  17898 non-null  float64\n",
      " 3   Profile_kurtosis  17898 non-null  float64\n",
      " 4   DM_mean           17898 non-null  float64\n",
      " 5   DM_stdev          17898 non-null  float64\n",
      " 6   DM_skewness       17898 non-null  float64\n",
      " 7   DM_kurtosis       17898 non-null  float64\n",
      " 8   class             17898 non-null  int64  \n",
      "dtypes: float64(8), int64(1)\n",
      "memory usage: 1.2 MB\n"
     ]
    }
   ],
   "source": [
    "pulsar_data.info()"
   ]
  },
  {
   "attachments": {},
   "cell_type": "markdown",
   "metadata": {},
   "source": [
    "From inspection of the first 5 rows, we can see that the dataset is already tidy, as it contains variables as columns, single candidates (observations) as rows, and each cell of the table containing a single numerical value. Furthermore, we note that the dataset contains 17,898 entries, and that there are no null values throughout, since all columns have the same number of non-null values."
   ]
  },
  {
   "attachments": {},
   "cell_type": "markdown",
   "metadata": {},
   "source": [
    "The \"class\" column currently contains a simple integer value: 0 for non-pulsar, and 1 for pulsar. For ease of identification, we change these to string equivalents for easier interpretability."
   ]
  },
  {
   "cell_type": "code",
   "execution_count": 5,
   "metadata": {},
   "outputs": [
    {
     "name": "stdout",
     "output_type": "stream",
     "text": [
      "<class 'pandas.core.frame.DataFrame'>\n",
      "RangeIndex: 17898 entries, 0 to 17897\n",
      "Data columns (total 9 columns):\n",
      " #   Column            Non-Null Count  Dtype  \n",
      "---  ------            --------------  -----  \n",
      " 0   Profile_mean      17898 non-null  float64\n",
      " 1   Profile_stdev     17898 non-null  float64\n",
      " 2   Profile_skewness  17898 non-null  float64\n",
      " 3   Profile_kurtosis  17898 non-null  float64\n",
      " 4   DM_mean           17898 non-null  float64\n",
      " 5   DM_stdev          17898 non-null  float64\n",
      " 6   DM_skewness       17898 non-null  float64\n",
      " 7   DM_kurtosis       17898 non-null  float64\n",
      " 8   class             17898 non-null  string \n",
      "dtypes: float64(8), string(1)\n",
      "memory usage: 1.2 MB\n"
     ]
    },
    {
     "data": {
      "text/plain": [
       "None"
      ]
     },
     "metadata": {},
     "output_type": "display_data"
    },
    {
     "data": {
      "text/html": [
       "<div>\n",
       "<style scoped>\n",
       "    .dataframe tbody tr th:only-of-type {\n",
       "        vertical-align: middle;\n",
       "    }\n",
       "\n",
       "    .dataframe tbody tr th {\n",
       "        vertical-align: top;\n",
       "    }\n",
       "\n",
       "    .dataframe thead th {\n",
       "        text-align: right;\n",
       "    }\n",
       "</style>\n",
       "<table border=\"1\" class=\"dataframe\">\n",
       "  <thead>\n",
       "    <tr style=\"text-align: right;\">\n",
       "      <th></th>\n",
       "      <th>Profile_mean</th>\n",
       "      <th>Profile_stdev</th>\n",
       "      <th>Profile_skewness</th>\n",
       "      <th>Profile_kurtosis</th>\n",
       "      <th>DM_mean</th>\n",
       "      <th>DM_stdev</th>\n",
       "      <th>DM_skewness</th>\n",
       "      <th>DM_kurtosis</th>\n",
       "      <th>class</th>\n",
       "    </tr>\n",
       "  </thead>\n",
       "  <tbody>\n",
       "    <tr>\n",
       "      <th>0</th>\n",
       "      <td>140.562500</td>\n",
       "      <td>55.683782</td>\n",
       "      <td>-0.234571</td>\n",
       "      <td>-0.699648</td>\n",
       "      <td>3.199833</td>\n",
       "      <td>19.110426</td>\n",
       "      <td>7.975532</td>\n",
       "      <td>74.242225</td>\n",
       "      <td>non-pulsar</td>\n",
       "    </tr>\n",
       "    <tr>\n",
       "      <th>1</th>\n",
       "      <td>102.507812</td>\n",
       "      <td>58.882430</td>\n",
       "      <td>0.465318</td>\n",
       "      <td>-0.515088</td>\n",
       "      <td>1.677258</td>\n",
       "      <td>14.860146</td>\n",
       "      <td>10.576487</td>\n",
       "      <td>127.393580</td>\n",
       "      <td>non-pulsar</td>\n",
       "    </tr>\n",
       "    <tr>\n",
       "      <th>2</th>\n",
       "      <td>103.015625</td>\n",
       "      <td>39.341649</td>\n",
       "      <td>0.323328</td>\n",
       "      <td>1.051164</td>\n",
       "      <td>3.121237</td>\n",
       "      <td>21.744669</td>\n",
       "      <td>7.735822</td>\n",
       "      <td>63.171909</td>\n",
       "      <td>non-pulsar</td>\n",
       "    </tr>\n",
       "    <tr>\n",
       "      <th>3</th>\n",
       "      <td>136.750000</td>\n",
       "      <td>57.178449</td>\n",
       "      <td>-0.068415</td>\n",
       "      <td>-0.636238</td>\n",
       "      <td>3.642977</td>\n",
       "      <td>20.959280</td>\n",
       "      <td>6.896499</td>\n",
       "      <td>53.593661</td>\n",
       "      <td>non-pulsar</td>\n",
       "    </tr>\n",
       "    <tr>\n",
       "      <th>4</th>\n",
       "      <td>88.726562</td>\n",
       "      <td>40.672225</td>\n",
       "      <td>0.600866</td>\n",
       "      <td>1.123492</td>\n",
       "      <td>1.178930</td>\n",
       "      <td>11.468720</td>\n",
       "      <td>14.269573</td>\n",
       "      <td>252.567306</td>\n",
       "      <td>non-pulsar</td>\n",
       "    </tr>\n",
       "    <tr>\n",
       "      <th>...</th>\n",
       "      <td>...</td>\n",
       "      <td>...</td>\n",
       "      <td>...</td>\n",
       "      <td>...</td>\n",
       "      <td>...</td>\n",
       "      <td>...</td>\n",
       "      <td>...</td>\n",
       "      <td>...</td>\n",
       "      <td>...</td>\n",
       "    </tr>\n",
       "    <tr>\n",
       "      <th>17893</th>\n",
       "      <td>136.429688</td>\n",
       "      <td>59.847421</td>\n",
       "      <td>-0.187846</td>\n",
       "      <td>-0.738123</td>\n",
       "      <td>1.296823</td>\n",
       "      <td>12.166062</td>\n",
       "      <td>15.450260</td>\n",
       "      <td>285.931022</td>\n",
       "      <td>non-pulsar</td>\n",
       "    </tr>\n",
       "    <tr>\n",
       "      <th>17894</th>\n",
       "      <td>122.554688</td>\n",
       "      <td>49.485605</td>\n",
       "      <td>0.127978</td>\n",
       "      <td>0.323061</td>\n",
       "      <td>16.409699</td>\n",
       "      <td>44.626893</td>\n",
       "      <td>2.945244</td>\n",
       "      <td>8.297092</td>\n",
       "      <td>non-pulsar</td>\n",
       "    </tr>\n",
       "    <tr>\n",
       "      <th>17895</th>\n",
       "      <td>119.335938</td>\n",
       "      <td>59.935939</td>\n",
       "      <td>0.159363</td>\n",
       "      <td>-0.743025</td>\n",
       "      <td>21.430602</td>\n",
       "      <td>58.872000</td>\n",
       "      <td>2.499517</td>\n",
       "      <td>4.595173</td>\n",
       "      <td>non-pulsar</td>\n",
       "    </tr>\n",
       "    <tr>\n",
       "      <th>17896</th>\n",
       "      <td>114.507812</td>\n",
       "      <td>53.902400</td>\n",
       "      <td>0.201161</td>\n",
       "      <td>-0.024789</td>\n",
       "      <td>1.946488</td>\n",
       "      <td>13.381731</td>\n",
       "      <td>10.007967</td>\n",
       "      <td>134.238910</td>\n",
       "      <td>non-pulsar</td>\n",
       "    </tr>\n",
       "    <tr>\n",
       "      <th>17897</th>\n",
       "      <td>57.062500</td>\n",
       "      <td>85.797340</td>\n",
       "      <td>1.406391</td>\n",
       "      <td>0.089520</td>\n",
       "      <td>188.306020</td>\n",
       "      <td>64.712562</td>\n",
       "      <td>-1.597527</td>\n",
       "      <td>1.429475</td>\n",
       "      <td>non-pulsar</td>\n",
       "    </tr>\n",
       "  </tbody>\n",
       "</table>\n",
       "<p>17898 rows × 9 columns</p>\n",
       "</div>"
      ],
      "text/plain": [
       "       Profile_mean  Profile_stdev  Profile_skewness  Profile_kurtosis  \\\n",
       "0        140.562500      55.683782         -0.234571         -0.699648   \n",
       "1        102.507812      58.882430          0.465318         -0.515088   \n",
       "2        103.015625      39.341649          0.323328          1.051164   \n",
       "3        136.750000      57.178449         -0.068415         -0.636238   \n",
       "4         88.726562      40.672225          0.600866          1.123492   \n",
       "...             ...            ...               ...               ...   \n",
       "17893    136.429688      59.847421         -0.187846         -0.738123   \n",
       "17894    122.554688      49.485605          0.127978          0.323061   \n",
       "17895    119.335938      59.935939          0.159363         -0.743025   \n",
       "17896    114.507812      53.902400          0.201161         -0.024789   \n",
       "17897     57.062500      85.797340          1.406391          0.089520   \n",
       "\n",
       "          DM_mean   DM_stdev  DM_skewness  DM_kurtosis       class  \n",
       "0        3.199833  19.110426     7.975532    74.242225  non-pulsar  \n",
       "1        1.677258  14.860146    10.576487   127.393580  non-pulsar  \n",
       "2        3.121237  21.744669     7.735822    63.171909  non-pulsar  \n",
       "3        3.642977  20.959280     6.896499    53.593661  non-pulsar  \n",
       "4        1.178930  11.468720    14.269573   252.567306  non-pulsar  \n",
       "...           ...        ...          ...          ...         ...  \n",
       "17893    1.296823  12.166062    15.450260   285.931022  non-pulsar  \n",
       "17894   16.409699  44.626893     2.945244     8.297092  non-pulsar  \n",
       "17895   21.430602  58.872000     2.499517     4.595173  non-pulsar  \n",
       "17896    1.946488  13.381731    10.007967   134.238910  non-pulsar  \n",
       "17897  188.306020  64.712562    -1.597527     1.429475  non-pulsar  \n",
       "\n",
       "[17898 rows x 9 columns]"
      ]
     },
     "execution_count": 5,
     "metadata": {},
     "output_type": "execute_result"
    }
   ],
   "source": [
    "# Include a call to the `convert_dtypes()` method to change to a more suitable data type string\n",
    "pulsar_data[\"class\"] = pulsar_data[\"class\"].replace({0: \"non-pulsar\", 1: \"pulsar\"}).convert_dtypes()\n",
    "display(pulsar_data.info())\n",
    "pulsar_data"
   ]
  },
  {
   "attachments": {},
   "cell_type": "markdown",
   "metadata": {},
   "source": [
    "Our training data should include non-pulsar and pulsar observations to best inform the model. Our testing data should follow the same idea to provide a fair test of accuracy of the model."
   ]
  },
  {
   "cell_type": "code",
   "execution_count": 6,
   "metadata": {},
   "outputs": [
    {
     "data": {
      "text/html": [
       "<div>\n",
       "<style scoped>\n",
       "    .dataframe tbody tr th:only-of-type {\n",
       "        vertical-align: middle;\n",
       "    }\n",
       "\n",
       "    .dataframe tbody tr th {\n",
       "        vertical-align: top;\n",
       "    }\n",
       "\n",
       "    .dataframe thead th {\n",
       "        text-align: right;\n",
       "    }\n",
       "</style>\n",
       "<table border=\"1\" class=\"dataframe\">\n",
       "  <thead>\n",
       "    <tr style=\"text-align: right;\">\n",
       "      <th></th>\n",
       "      <th>class</th>\n",
       "      <th>count</th>\n",
       "      <th>pct</th>\n",
       "    </tr>\n",
       "  </thead>\n",
       "  <tbody>\n",
       "    <tr>\n",
       "      <th>0</th>\n",
       "      <td>non-pulsar</td>\n",
       "      <td>16259</td>\n",
       "      <td>0.908426</td>\n",
       "    </tr>\n",
       "    <tr>\n",
       "      <th>1</th>\n",
       "      <td>pulsar</td>\n",
       "      <td>1639</td>\n",
       "      <td>0.091574</td>\n",
       "    </tr>\n",
       "  </tbody>\n",
       "</table>\n",
       "</div>"
      ],
      "text/plain": [
       "        class  count       pct\n",
       "0  non-pulsar  16259  0.908426\n",
       "1      pulsar   1639  0.091574"
      ]
     },
     "execution_count": 6,
     "metadata": {},
     "output_type": "execute_result"
    }
   ],
   "source": [
    "# Keep one other column outside the target classification column\n",
    "pulsar_data_count = pulsar_data[[\"class\", \"Profile_mean\"]].groupby(\"class\").count().reset_index()\n",
    "\n",
    "# Rename the column to more accurately reflect its purpose\n",
    "pulsar_data_count = pulsar_data_count.rename(columns={\"Profile_mean\": \"count\"})\n",
    "pulsar_data_count = pulsar_data_count.assign(pct=pulsar_data_count[\"count\"] / len(pulsar_data))\n",
    "pulsar_data_count"
   ]
  },
  {
   "attachments": {},
   "cell_type": "markdown",
   "metadata": {},
   "source": [
    "We will base the proportions on what is found in the full version of the data. We will also arbitrarily use 75% of the data for training, and the remainder for testing."
   ]
  },
  {
   "cell_type": "code",
   "execution_count": 7,
   "metadata": {},
   "outputs": [],
   "source": [
    "pulsar_data_train, pulsar_data_test = train_test_split(\n",
    "    pulsar_data, train_size=0.75, stratify=pulsar_data[\"class\"]\n",
    ")\n",
    "\n",
    "pulsar_data_train_count = pulsar_data_train[[\"class\", \"Profile_mean\"]].groupby(\"class\").count().reset_index()\n",
    "pulsar_data_train_count = pulsar_data_train_count.rename(columns={\"Profile_mean\": \"count\"})\n",
    "pulsar_data_train_count = pulsar_data_train_count.assign(pct=pulsar_data_train_count[\"count\"] / len(pulsar_data_train))\n",
    "\n",
    "# We only evaluate the distribution of the testing set; we seek no further detail into the nature of the testing set past this\n",
    "pulsar_data_test_count = pulsar_data_test[[\"class\", \"Profile_mean\"]].groupby(\"class\").count().reset_index()\n",
    "pulsar_data_test_count = pulsar_data_test_count.rename(columns={\"Profile_mean\": \"count\"})\n",
    "pulsar_data_test_count = pulsar_data_test_count.assign(pct=pulsar_data_test_count[\"count\"] / len(pulsar_data_test))"
   ]
  },
  {
   "cell_type": "code",
   "execution_count": 8,
   "metadata": {},
   "outputs": [
    {
     "data": {
      "text/html": [
       "<div>\n",
       "<style scoped>\n",
       "    .dataframe tbody tr th:only-of-type {\n",
       "        vertical-align: middle;\n",
       "    }\n",
       "\n",
       "    .dataframe tbody tr th {\n",
       "        vertical-align: top;\n",
       "    }\n",
       "\n",
       "    .dataframe thead th {\n",
       "        text-align: right;\n",
       "    }\n",
       "</style>\n",
       "<table border=\"1\" class=\"dataframe\">\n",
       "  <thead>\n",
       "    <tr style=\"text-align: right;\">\n",
       "      <th></th>\n",
       "      <th>class</th>\n",
       "      <th>count</th>\n",
       "      <th>pct</th>\n",
       "    </tr>\n",
       "  </thead>\n",
       "  <tbody>\n",
       "    <tr>\n",
       "      <th>0</th>\n",
       "      <td>non-pulsar</td>\n",
       "      <td>12194</td>\n",
       "      <td>0.908441</td>\n",
       "    </tr>\n",
       "    <tr>\n",
       "      <th>1</th>\n",
       "      <td>pulsar</td>\n",
       "      <td>1229</td>\n",
       "      <td>0.091559</td>\n",
       "    </tr>\n",
       "  </tbody>\n",
       "</table>\n",
       "</div>"
      ],
      "text/plain": [
       "        class  count       pct\n",
       "0  non-pulsar  12194  0.908441\n",
       "1      pulsar   1229  0.091559"
      ]
     },
     "execution_count": 8,
     "metadata": {},
     "output_type": "execute_result"
    }
   ],
   "source": [
    "pulsar_data_train_count"
   ]
  },
  {
   "cell_type": "code",
   "execution_count": 9,
   "metadata": {},
   "outputs": [
    {
     "data": {
      "text/html": [
       "<div>\n",
       "<style scoped>\n",
       "    .dataframe tbody tr th:only-of-type {\n",
       "        vertical-align: middle;\n",
       "    }\n",
       "\n",
       "    .dataframe tbody tr th {\n",
       "        vertical-align: top;\n",
       "    }\n",
       "\n",
       "    .dataframe thead th {\n",
       "        text-align: right;\n",
       "    }\n",
       "</style>\n",
       "<table border=\"1\" class=\"dataframe\">\n",
       "  <thead>\n",
       "    <tr style=\"text-align: right;\">\n",
       "      <th></th>\n",
       "      <th>class</th>\n",
       "      <th>count</th>\n",
       "      <th>pct</th>\n",
       "    </tr>\n",
       "  </thead>\n",
       "  <tbody>\n",
       "    <tr>\n",
       "      <th>0</th>\n",
       "      <td>non-pulsar</td>\n",
       "      <td>4065</td>\n",
       "      <td>0.90838</td>\n",
       "    </tr>\n",
       "    <tr>\n",
       "      <th>1</th>\n",
       "      <td>pulsar</td>\n",
       "      <td>410</td>\n",
       "      <td>0.09162</td>\n",
       "    </tr>\n",
       "  </tbody>\n",
       "</table>\n",
       "</div>"
      ],
      "text/plain": [
       "        class  count      pct\n",
       "0  non-pulsar   4065  0.90838\n",
       "1      pulsar    410  0.09162"
      ]
     },
     "execution_count": 9,
     "metadata": {},
     "output_type": "execute_result"
    }
   ],
   "source": [
    "pulsar_data_test_count"
   ]
  },
  {
   "attachments": {},
   "cell_type": "markdown",
   "metadata": {},
   "source": [
    "The full dataset had a distribution of around 91% of the observations as \"non-pulsar\", and about 9% as \"pulsar\". The training and testing set are thus stratified to maintain this distribution."
   ]
  },
  {
   "cell_type": "markdown",
   "metadata": {},
   "source": []
  },
  {
   "attachments": {},
   "cell_type": "markdown",
   "metadata": {},
   "source": [
    "## Discussion\n",
    "\n",
    "// TODO: discussion\n",
    "\n",
    "We found that (columns that are important) were good classifiers...\n",
    "\n",
    "These findings could imply... / The impact that this might have is ...\n",
    "\n",
    "Future questions that this investigation could lead to include ..."
   ]
  },
  {
   "attachments": {},
   "cell_type": "markdown",
   "metadata": {},
   "source": [
    "## References\n",
    "\n",
    "1. Eatough, R. P., Molkenthin, N., Kramer, M., Noutsos, A., Keith, M. J., Stappers, B. W., & Lyne, A. G. (2010). Selection of radio pulsar candidates using artificial neural networks. Monthly Notices of the Royal Astronomical Society, 407(4), 2443-2450.\n",
    "\n",
    "2. Karastergiou, A., Roberts, S. J., Johnston, S., Lee, H. J., Weltevrede, P., & Kramer, M. (2011). A transient component in the pulse profile of PSR J0738− 4042. Monthly Notices of the Royal Astronomical Society, 415(1), 251-256."
   ]
  }
 ],
 "metadata": {
  "kernelspec": {
   "display_name": "Python 3",
   "language": "python",
   "name": "python3"
  },
  "language_info": {
   "codemirror_mode": {
    "name": "ipython",
    "version": 3
   },
   "file_extension": ".py",
   "mimetype": "text/x-python",
   "name": "python",
   "nbconvert_exporter": "python",
   "pygments_lexer": "ipython3",
   "version": "3.10.6"
  },
  "orig_nbformat": 4
 },
 "nbformat": 4,
 "nbformat_minor": 2
}
