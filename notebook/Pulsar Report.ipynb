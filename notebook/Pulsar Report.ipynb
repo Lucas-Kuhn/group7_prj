{
 "cells": [
  {
   "cell_type": "markdown",
   "metadata": {},
   "source": [
    "# On the Identification of Pulsar Stars\n",
    "\n",
    "A DSCI 100 Project\n",
    "\n",
    "Lucas Kuhn, Sophia Zhang, Michael Cheung"
   ]
  },
  {
   "cell_type": "markdown",
   "metadata": {},
   "source": [
    "## Introduction\n",
    "\"Pulsar\" neutron stars produce radio emissions that are of great interest to astronomers and researchers. In this project, we set out to develop a model for classifying them distinctly from those that are \"non-pulsar\".\n",
    "\n",
    "Our question to answer: \"Are there characteristics of a pulsar candidate's curve profiles that serve as good predictors for pulsar and non-pulsar classification?\".\n",
    "\n",
    "We use the HTRU2 dataset from the UCI Machine Learning Repository, which contains summary statistics for observed pulsar candidates as they exhibit on both the Integrated Pulse (folded) Profile, as well as on the Dispersion Measure Signal-to-Noise Ratio (DM-SNR) curve.\n",
    "\n",
    "// TODO add stuff? flesh out stuff we had to limit because of proposal word limit?"
   ]
  },
  {
   "cell_type": "markdown",
   "metadata": {},
   "source": [
    "## Methods\n",
    "\n",
    "// TODO: (copied from proposal) actually state what's happening and narrate through operations\n",
    "\n",
    "// TODO: use references in this section + in-text citations?"
   ]
  },
  {
   "cell_type": "markdown",
   "metadata": {},
   "source": [
    "We plan to train multiple models using various subsets of the summary-statistic columns as predictor variables, given how the pulses for a candidate that is truly pulsar are \"remarkably constant over long periods of time\" (Karastergiou et. al, 2011) and as such tend to reveal prominent insights on curve profiles. \n",
    "\n",
    "We can use scatter plots similar to above to qualitatively assess pairs of variables for any distinct separation or clustering of classified points. Plots like this provide an interface for human inspection, as used to train other models such as artificial neural networks (Eatough et al., 2010).\n",
    "\n",
    "We will fit a K-Nearest Neighbours classifier model to our training data, using a GridSearchCV with 5-fold Cross-Validation to choose $k$. This allows us to efficiently test the validation accuracy at many values of $k$ and combat both overfitting and underfitting.\n",
    "\n",
    "With our best model, we can assess its accuracy on the testing set using a confusion matrix, allowing us to more critically assess the accuracy based on whether false positives are more costly than false negatives."
   ]
  },
  {
   "cell_type": "code",
   "execution_count": 1,
   "metadata": {},
   "outputs": [
    {
     "data": {
      "text/plain": [
       "DataTransformerRegistry.enable('default')"
      ]
     },
     "execution_count": 1,
     "metadata": {},
     "output_type": "execute_result"
    }
   ],
   "source": [
    "# This serves as the set of packages that may be used for our final project\n",
    "\n",
    "# Retrieve relevant packages for dataframes and visualization tools\n",
    "import pandas as pd\n",
    "import altair as alt\n",
    "import sklearn\n",
    "\n",
    "# Retrieve relevant packages for classification and modelling\n",
    "from sklearn.compose import make_column_transformer\n",
    "from sklearn.metrics import confusion_matrix\n",
    "from sklearn.metrics.pairwise import euclidean_distances\n",
    "from sklearn.model_selection import (\n",
    "    GridSearchCV,\n",
    "    cross_validate,\n",
    "    train_test_split,\n",
    ")\n",
    "from sklearn.neighbors import KNeighborsClassifier\n",
    "from sklearn.pipeline import Pipeline, make_pipeline\n",
    "from sklearn.preprocessing import StandardScaler\n",
    "\n",
    "# This dataset has more than 5000 obervations, we will need to allow for greater data plotting\n",
    "alt.data_transformers.disable_max_rows()"
   ]
  },
  {
   "cell_type": "markdown",
   "metadata": {},
   "source": [
    "First we load in the data from the dataset, providing column headers for readability. Then we change the identification values of 0 and 1 to readable titles of non-pulsar and pulsar respectively. "
   ]
  },
  {
   "cell_type": "code",
   "execution_count": 4,
   "metadata": {},
   "outputs": [
    {
     "data": {
      "text/html": [
       "<div>\n",
       "<style scoped>\n",
       "    .dataframe tbody tr th:only-of-type {\n",
       "        vertical-align: middle;\n",
       "    }\n",
       "\n",
       "    .dataframe tbody tr th {\n",
       "        vertical-align: top;\n",
       "    }\n",
       "\n",
       "    .dataframe thead th {\n",
       "        text-align: right;\n",
       "    }\n",
       "</style>\n",
       "<table border=\"1\" class=\"dataframe\">\n",
       "  <thead>\n",
       "    <tr style=\"text-align: right;\">\n",
       "      <th></th>\n",
       "      <th>Profile_mean</th>\n",
       "      <th>Profile_stdev</th>\n",
       "      <th>Profile_skewness</th>\n",
       "      <th>Profile_kurtosis</th>\n",
       "      <th>DM_mean</th>\n",
       "      <th>DM_stdev</th>\n",
       "      <th>DM_skewness</th>\n",
       "      <th>DM_kurtosis</th>\n",
       "      <th>class</th>\n",
       "    </tr>\n",
       "  </thead>\n",
       "  <tbody>\n",
       "    <tr>\n",
       "      <th>0</th>\n",
       "      <td>140.562500</td>\n",
       "      <td>55.683782</td>\n",
       "      <td>-0.234571</td>\n",
       "      <td>-0.699648</td>\n",
       "      <td>3.199833</td>\n",
       "      <td>19.110426</td>\n",
       "      <td>7.975532</td>\n",
       "      <td>74.242225</td>\n",
       "      <td>non-pulsar</td>\n",
       "    </tr>\n",
       "    <tr>\n",
       "      <th>1</th>\n",
       "      <td>102.507812</td>\n",
       "      <td>58.882430</td>\n",
       "      <td>0.465318</td>\n",
       "      <td>-0.515088</td>\n",
       "      <td>1.677258</td>\n",
       "      <td>14.860146</td>\n",
       "      <td>10.576487</td>\n",
       "      <td>127.393580</td>\n",
       "      <td>non-pulsar</td>\n",
       "    </tr>\n",
       "    <tr>\n",
       "      <th>2</th>\n",
       "      <td>103.015625</td>\n",
       "      <td>39.341649</td>\n",
       "      <td>0.323328</td>\n",
       "      <td>1.051164</td>\n",
       "      <td>3.121237</td>\n",
       "      <td>21.744669</td>\n",
       "      <td>7.735822</td>\n",
       "      <td>63.171909</td>\n",
       "      <td>non-pulsar</td>\n",
       "    </tr>\n",
       "    <tr>\n",
       "      <th>3</th>\n",
       "      <td>136.750000</td>\n",
       "      <td>57.178449</td>\n",
       "      <td>-0.068415</td>\n",
       "      <td>-0.636238</td>\n",
       "      <td>3.642977</td>\n",
       "      <td>20.959280</td>\n",
       "      <td>6.896499</td>\n",
       "      <td>53.593661</td>\n",
       "      <td>non-pulsar</td>\n",
       "    </tr>\n",
       "    <tr>\n",
       "      <th>4</th>\n",
       "      <td>88.726562</td>\n",
       "      <td>40.672225</td>\n",
       "      <td>0.600866</td>\n",
       "      <td>1.123492</td>\n",
       "      <td>1.178930</td>\n",
       "      <td>11.468720</td>\n",
       "      <td>14.269573</td>\n",
       "      <td>252.567306</td>\n",
       "      <td>non-pulsar</td>\n",
       "    </tr>\n",
       "  </tbody>\n",
       "</table>\n",
       "</div>"
      ],
      "text/plain": [
       "   Profile_mean  Profile_stdev  Profile_skewness  Profile_kurtosis   DM_mean  \\\n",
       "0    140.562500      55.683782         -0.234571         -0.699648  3.199833   \n",
       "1    102.507812      58.882430          0.465318         -0.515088  1.677258   \n",
       "2    103.015625      39.341649          0.323328          1.051164  3.121237   \n",
       "3    136.750000      57.178449         -0.068415         -0.636238  3.642977   \n",
       "4     88.726562      40.672225          0.600866          1.123492  1.178930   \n",
       "\n",
       "    DM_stdev  DM_skewness  DM_kurtosis       class  \n",
       "0  19.110426     7.975532    74.242225  non-pulsar  \n",
       "1  14.860146    10.576487   127.393580  non-pulsar  \n",
       "2  21.744669     7.735822    63.171909  non-pulsar  \n",
       "3  20.959280     6.896499    53.593661  non-pulsar  \n",
       "4  11.468720    14.269573   252.567306  non-pulsar  "
      ]
     },
     "execution_count": 4,
     "metadata": {},
     "output_type": "execute_result"
    }
   ],
   "source": [
    "# Using the extracted contents, read the .CSV file, identifying columns using the associated .ARFF alongside it\n",
    "pulsar_data = pd.read_csv(\n",
    "    \"../data/HTRU2/HTRU_2.csv\",\n",
    "    # .CSV file contains no column headers, we provide these here\n",
    "    names=[\n",
    "        \"Profile_mean\",\n",
    "        \"Profile_stdev\",\n",
    "        \"Profile_skewness\",\n",
    "        \"Profile_kurtosis\",\n",
    "        \"DM_mean\",\n",
    "        \"DM_stdev\",\n",
    "        \"DM_skewness\",\n",
    "        \"DM_kurtosis\",\n",
    "        \"class\"\n",
    "    ]\n",
    ")\n",
    "pulsar_data[\"class\"] = pulsar_data[\"class\"].replace({0: \"non-pulsar\", 1: \"pulsar\"}).convert_dtypes()\n",
    "pulsar_data\n",
    "\n",
    "# As a POC, show the first 5 rows of the dataset\n",
    "pulsar_data.head()"
   ]
  },
  {
   "cell_type": "code",
   "execution_count": null,
   "metadata": {},
   "outputs": [],
   "source": []
  },
  {
   "cell_type": "markdown",
   "metadata": {},
   "source": [
    "## Results\n",
    "\n",
    "// TODO: results\n",
    "\n",
    "We found that ...\n",
    "\n",
    "The columns that best help to train the classifier are ..."
   ]
  },
  {
   "cell_type": "markdown",
   "metadata": {},
   "source": [
    "## Discussion\n",
    "\n",
    "// TODO: discussion\n",
    "\n",
    "We found that (columns that are important) were good classifiers...\n",
    "\n",
    "These findings could imply... / The impact that this might have is ...\n",
    "\n",
    "Future questions that this investigation could lead to include ..."
   ]
  },
  {
   "cell_type": "markdown",
   "metadata": {},
   "source": [
    "## References\n",
    "\n",
    "1. Eatough, R. P., Molkenthin, N., Kramer, M., Noutsos, A., Keith, M. J., Stappers, B. W., & Lyne, A. G. (2010). Selection of radio pulsar candidates using artificial neural networks. Monthly Notices of the Royal Astronomical Society, 407(4), 2443-2450.\n",
    "\n",
    "2. Karastergiou, A., Roberts, S. J., Johnston, S., Lee, H. J., Weltevrede, P., & Kramer, M. (2011). A transient component in the pulse profile of PSR J0738− 4042. Monthly Notices of the Royal Astronomical Society, 415(1), 251-256."
   ]
  }
 ],
 "metadata": {
  "kernelspec": {
   "display_name": "Python 3 (ipykernel)",
   "language": "python",
   "name": "python3"
  },
  "language_info": {
   "codemirror_mode": {
    "name": "ipython",
    "version": 3
   },
   "file_extension": ".py",
   "mimetype": "text/x-python",
   "name": "python",
   "nbconvert_exporter": "python",
   "pygments_lexer": "ipython3",
   "version": "3.10.8"
  }
 },
 "nbformat": 4,
 "nbformat_minor": 4
}
