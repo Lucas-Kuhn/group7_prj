{
 "cells": [
  {
   "attachments": {},
   "cell_type": "markdown",
   "metadata": {},
   "source": [
    "# On the Identification of Pulsar Stars\n",
    "\n",
    "A DSCI 100 Project\n",
    "\n",
    "Lucas Kuhn, Sophia Zhang, Michael Cheung"
   ]
  },
  {
   "attachments": {},
   "cell_type": "markdown",
   "metadata": {},
   "source": [
    "## Introduction\n",
    "\n",
    "Out in the universe, astronomers have found many neutron stars. A subset of these stars fall under a rare classification known as a \"pulsar\", meaning that they produce a periodic radio signal that is detectable from Earth. These stars are of great interest, and so being able to identify them is a useful skill that furthers exploration efforts in understanding neutron stars.\n",
    "\n",
    "In this project, we set out to develop a model for classifying them distinctly from those that are \"non-pulsar\". Our question to answer: \"Are there characteristics of a pulsar candidate's curve profiles that serve as good predictors for pulsar and non-pulsar classification?\".\n",
    "\n",
    "To investigate this, we use the HTRU2 dataset provided by the UCI Machine Learning Repository. This dataset contains summary statistics for a large number of observed pulsar candidates as they exhibit on both the Integrated Pulse (folded) Profile as well as on the Dispersion Measure Signal-to-Noise Ratio (DM-SNR) curve, which is then associated alongside their known classifications as either \"pulsar\" or \"non-pulsar\"."
   ]
  },
  {
   "attachments": {},
   "cell_type": "markdown",
   "metadata": {},
   "source": [
    "## Methods\n",
    "\n",
    "To carry out the investigation, we will train multiple K-Nearest Neighbours classifier models using various subsets of the columns in our dataset as predictor variables. Given how the candidates that are truly pulsar generally broadcast signal pulses that are \"remarkably constant over long periods of time\" (Kastergiou et. al, 2011), we can reasonably surmise that the summary statistics from candidates' curve profiles could serve as predictors for our classification model.\n",
    "\n",
    "As a way of gaining insights as to which dataset columns to use in our set of predictor columns, we will first create scatter plots of pairs of the columns in a scatter plot matrix, colouring the points by their classification and inspecting for visible divisions. For example, columns that we may wish to exclude from the predictor variables are those that result in \"heterogeneous\" mixtures of the classified points with less defined independent groupings of points. This is a valid way to to evaluate for predictors as plots provide an interface for human inspection, and are used to train other models such as artificial neural networks (Eatough et. al, 2010).\n",
    "\n",
    "Using a GridSearchCV with 5-fold Cross-Validation, we can optimize the number of neighbours $k$. This allows us to efficiently test the validation accuracy at many values of $k$ and combat both overfitting and underfitting.\n",
    "\n",
    "With our best model, we can assess its accuracy on the testing set using a confusion matrix, allowing us to more critically assess the accuracy based on whether false positives are more costly than false negatives."
   ]
  },
  {
   "attachments": {},
   "cell_type": "markdown",
   "metadata": {},
   "source": [
    "We perform preliminary setup and retrieve the packages we will need."
   ]
  },
  {
   "cell_type": "code",
   "execution_count": 2,
   "metadata": {},
   "outputs": [],
   "source": [
    "# Retrieve relevant packages for dataframes and visualization tools\n",
    "import pandas as pd\n",
    "import altair as alt\n",
    "import sklearn\n",
    "\n",
    "# Retrieve relevant packages for classification and modelling\n",
    "from sklearn.compose import make_column_transformer\n",
    "from sklearn.metrics import confusion_matrix\n",
    "from sklearn.metrics.pairwise import euclidean_distances\n",
    "from sklearn.model_selection import (\n",
    "    GridSearchCV,\n",
    "    cross_validate,\n",
    "    train_test_split,\n",
    ")\n",
    "from sklearn.neighbors import KNeighborsClassifier\n",
    "from sklearn.pipeline import Pipeline, make_pipeline\n",
    "from sklearn.preprocessing import StandardScaler"
   ]
  },
  {
   "attachments": {},
   "cell_type": "markdown",
   "metadata": {},
   "source": [
    "As the dataset we plan to import will contain more than 5000 observations, we will need to allow for greater data plotting."
   ]
  },
  {
   "cell_type": "code",
   "execution_count": 3,
   "metadata": {},
   "outputs": [
    {
     "data": {
      "text/plain": [
       "DataTransformerRegistry.enable('default')"
      ]
     },
     "execution_count": 3,
     "metadata": {},
     "output_type": "execute_result"
    }
   ],
   "source": [
    "alt.data_transformers.disable_max_rows()"
   ]
  },
  {
   "attachments": {},
   "cell_type": "markdown",
   "metadata": {},
   "source": [
    "THe HTRU2 dataset can be downloaded from the [UCI Machine Learning Repository](https://archive.ics.uci.edu/ml/machine-learning-databases/00372/). We unzip the file to the `data/` directory and read it into Jupyter Notebook."
   ]
  },
  {
   "cell_type": "code",
   "execution_count": 4,
   "metadata": {},
   "outputs": [
    {
     "data": {
      "text/html": [
       "<div>\n",
       "<style scoped>\n",
       "    .dataframe tbody tr th:only-of-type {\n",
       "        vertical-align: middle;\n",
       "    }\n",
       "\n",
       "    .dataframe tbody tr th {\n",
       "        vertical-align: top;\n",
       "    }\n",
       "\n",
       "    .dataframe thead th {\n",
       "        text-align: right;\n",
       "    }\n",
       "</style>\n",
       "<table border=\"1\" class=\"dataframe\">\n",
       "  <thead>\n",
       "    <tr style=\"text-align: right;\">\n",
       "      <th></th>\n",
       "      <th>Profile_mean</th>\n",
       "      <th>Profile_stdev</th>\n",
       "      <th>Profile_skewness</th>\n",
       "      <th>Profile_kurtosis</th>\n",
       "      <th>DM_mean</th>\n",
       "      <th>DM_stdev</th>\n",
       "      <th>DM_skewness</th>\n",
       "      <th>DM_kurtosis</th>\n",
       "      <th>class</th>\n",
       "    </tr>\n",
       "  </thead>\n",
       "  <tbody>\n",
       "    <tr>\n",
       "      <th>0</th>\n",
       "      <td>140.562500</td>\n",
       "      <td>55.683782</td>\n",
       "      <td>-0.234571</td>\n",
       "      <td>-0.699648</td>\n",
       "      <td>3.199833</td>\n",
       "      <td>19.110426</td>\n",
       "      <td>7.975532</td>\n",
       "      <td>74.242225</td>\n",
       "      <td>0</td>\n",
       "    </tr>\n",
       "    <tr>\n",
       "      <th>1</th>\n",
       "      <td>102.507812</td>\n",
       "      <td>58.882430</td>\n",
       "      <td>0.465318</td>\n",
       "      <td>-0.515088</td>\n",
       "      <td>1.677258</td>\n",
       "      <td>14.860146</td>\n",
       "      <td>10.576487</td>\n",
       "      <td>127.393580</td>\n",
       "      <td>0</td>\n",
       "    </tr>\n",
       "    <tr>\n",
       "      <th>2</th>\n",
       "      <td>103.015625</td>\n",
       "      <td>39.341649</td>\n",
       "      <td>0.323328</td>\n",
       "      <td>1.051164</td>\n",
       "      <td>3.121237</td>\n",
       "      <td>21.744669</td>\n",
       "      <td>7.735822</td>\n",
       "      <td>63.171909</td>\n",
       "      <td>0</td>\n",
       "    </tr>\n",
       "    <tr>\n",
       "      <th>3</th>\n",
       "      <td>136.750000</td>\n",
       "      <td>57.178449</td>\n",
       "      <td>-0.068415</td>\n",
       "      <td>-0.636238</td>\n",
       "      <td>3.642977</td>\n",
       "      <td>20.959280</td>\n",
       "      <td>6.896499</td>\n",
       "      <td>53.593661</td>\n",
       "      <td>0</td>\n",
       "    </tr>\n",
       "    <tr>\n",
       "      <th>4</th>\n",
       "      <td>88.726562</td>\n",
       "      <td>40.672225</td>\n",
       "      <td>0.600866</td>\n",
       "      <td>1.123492</td>\n",
       "      <td>1.178930</td>\n",
       "      <td>11.468720</td>\n",
       "      <td>14.269573</td>\n",
       "      <td>252.567306</td>\n",
       "      <td>0</td>\n",
       "    </tr>\n",
       "  </tbody>\n",
       "</table>\n",
       "</div>"
      ],
      "text/plain": [
       "   Profile_mean  Profile_stdev  Profile_skewness  Profile_kurtosis   DM_mean  \\\n",
       "0    140.562500      55.683782         -0.234571         -0.699648  3.199833   \n",
       "1    102.507812      58.882430          0.465318         -0.515088  1.677258   \n",
       "2    103.015625      39.341649          0.323328          1.051164  3.121237   \n",
       "3    136.750000      57.178449         -0.068415         -0.636238  3.642977   \n",
       "4     88.726562      40.672225          0.600866          1.123492  1.178930   \n",
       "\n",
       "    DM_stdev  DM_skewness  DM_kurtosis  class  \n",
       "0  19.110426     7.975532    74.242225      0  \n",
       "1  14.860146    10.576487   127.393580      0  \n",
       "2  21.744669     7.735822    63.171909      0  \n",
       "3  20.959280     6.896499    53.593661      0  \n",
       "4  11.468720    14.269573   252.567306      0  "
      ]
     },
     "execution_count": 4,
     "metadata": {},
     "output_type": "execute_result"
    }
   ],
   "source": [
    "# Using the extracted contents, read the .CSV file, identifying columns using the associated .ARFF alongside it\n",
    "pulsar_data = pd.read_csv(\n",
    "    \"../data/HTRU2/HTRU_2.csv\",\n",
    "    # .CSV file contains no column headers, we provide these here\n",
    "    names=[\n",
    "        \"Profile_mean\",\n",
    "        \"Profile_stdev\",\n",
    "        \"Profile_skewness\",\n",
    "        \"Profile_kurtosis\",\n",
    "        \"DM_mean\",\n",
    "        \"DM_stdev\",\n",
    "        \"DM_skewness\",\n",
    "        \"DM_kurtosis\",\n",
    "        \"class\"\n",
    "    ]\n",
    ")\n",
    "\n",
    "# As a POC, show the first 5 rows of the dataset\n",
    "pulsar_data.head()"
   ]
  },
  {
   "attachments": {},
   "cell_type": "markdown",
   "metadata": {},
   "source": [
    "## Results\n",
    "\n",
    "// TODO: results\n",
    "\n",
    "We found that ...\n",
    "\n",
    "The columns that best help to train the classifier are ..."
   ]
  },
  {
   "attachments": {},
   "cell_type": "markdown",
   "metadata": {},
   "source": [
    "## Discussion\n",
    "\n",
    "// TODO: discussion\n",
    "\n",
    "We found that (columns that are important) were good classifiers...\n",
    "\n",
    "These findings could imply... / The impact that this might have is ...\n",
    "\n",
    "Future questions that this investigation could lead to include ..."
   ]
  },
  {
   "attachments": {},
   "cell_type": "markdown",
   "metadata": {},
   "source": [
    "## References\n",
    "\n",
    "1. Eatough, R. P., Molkenthin, N., Kramer, M., Noutsos, A., Keith, M. J., Stappers, B. W., & Lyne, A. G. (2010). Selection of radio pulsar candidates using artificial neural networks. Monthly Notices of the Royal Astronomical Society, 407(4), 2443-2450.\n",
    "\n",
    "2. Karastergiou, A., Roberts, S. J., Johnston, S., Lee, H. J., Weltevrede, P., & Kramer, M. (2011). A transient component in the pulse profile of PSR J0738− 4042. Monthly Notices of the Royal Astronomical Society, 415(1), 251-256."
   ]
  }
 ],
 "metadata": {
  "kernelspec": {
   "display_name": "Python 3",
   "language": "python",
   "name": "python3"
  },
  "language_info": {
   "codemirror_mode": {
    "name": "ipython",
    "version": 3
   },
   "file_extension": ".py",
   "mimetype": "text/x-python",
   "name": "python",
   "nbconvert_exporter": "python",
   "pygments_lexer": "ipython3",
   "version": "3.10.6"
  },
  "orig_nbformat": 4
 },
 "nbformat": 4,
 "nbformat_minor": 2
}
